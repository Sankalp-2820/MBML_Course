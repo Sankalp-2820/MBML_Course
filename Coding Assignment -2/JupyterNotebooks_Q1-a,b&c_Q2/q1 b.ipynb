{
 "cells": [
  {
   "cell_type": "markdown",
   "id": "11138967",
   "metadata": {},
   "source": [
    "### Numerical Solution Using NumPy"
   ]
  },
  {
   "cell_type": "code",
   "execution_count": 1,
   "id": "1a6a4d8a",
   "metadata": {},
   "outputs": [],
   "source": [
    "import numpy as np\n",
    "A = np.array([[1,2],[2,4],[3,1]])\n",
    "B = np.array([1,3,1])\n",
    "x = np.random.rand(2)\n",
    "C = np.dot(A,x)"
   ]
  },
  {
   "cell_type": "code",
   "execution_count": 2,
   "id": "e5c676d3",
   "metadata": {},
   "outputs": [],
   "source": [
    "def f(x):\n",
    "    C = A*x\n",
    "    return (np.linalg.norm(np.dot(A,x)-B))**2"
   ]
  },
  {
   "cell_type": "code",
   "execution_count": 3,
   "id": "0f3ec50f",
   "metadata": {},
   "outputs": [
    {
     "data": {
      "text/plain": [
       "1.098955793987194"
      ]
     },
     "execution_count": 3,
     "metadata": {},
     "output_type": "execute_result"
    }
   ],
   "source": [
    "f(x)"
   ]
  },
  {
   "cell_type": "code",
   "execution_count": 4,
   "id": "45902158",
   "metadata": {},
   "outputs": [],
   "source": [
    "def grad(x):\n",
    "    C = A*x\n",
    "    return 2*np.dot(A.T,(np.dot(A,x)-B))"
   ]
  },
  {
   "cell_type": "code",
   "execution_count": 5,
   "id": "f76b52fc",
   "metadata": {},
   "outputs": [
    {
     "data": {
      "text/plain": [
       "array([4.77912047, 8.62574259])"
      ]
     },
     "execution_count": 5,
     "metadata": {},
     "output_type": "execute_result"
    }
   ],
   "source": [
    "grad(x)"
   ]
  },
  {
   "cell_type": "raw",
   "id": "958e0f8d",
   "metadata": {},
   "source": [
    "lr = 0.02\n",
    "num_iter = 10000"
   ]
  },
  {
   "cell_type": "code",
   "execution_count": 6,
   "id": "00111d9a",
   "metadata": {},
   "outputs": [],
   "source": [
    "def gD(x):\n",
    "    for i in range(10000):\n",
    "        x = x - 0.01*(grad(x))\n",
    "        if i%1000 == 0:\n",
    "            print(f\"Iteration : {i} Value of f(x) = {f(x)}\")\n",
    "        ans = x\n",
    "    print(f\"Iteration : {i} = Min value of f = {f(x)} at x = {x}\")\n",
    "    return ans"
   ]
  },
  {
   "cell_type": "code",
   "execution_count": 7,
   "id": "04d3e7c2",
   "metadata": {},
   "outputs": [
    {
     "name": "stdout",
     "output_type": "stream",
     "text": [
      "Iteration : 0 Value of f(x) = 0.42192572469689277\n",
      "Iteration : 1000 Value of f(x) = 0.19999999999999998\n",
      "Iteration : 2000 Value of f(x) = 0.19999999999999998\n",
      "Iteration : 3000 Value of f(x) = 0.19999999999999998\n",
      "Iteration : 4000 Value of f(x) = 0.19999999999999998\n",
      "Iteration : 5000 Value of f(x) = 0.19999999999999998\n",
      "Iteration : 6000 Value of f(x) = 0.19999999999999998\n",
      "Iteration : 7000 Value of f(x) = 0.19999999999999998\n",
      "Iteration : 8000 Value of f(x) = 0.19999999999999998\n",
      "Iteration : 9000 Value of f(x) = 0.19999999999999998\n",
      "Iteration : 9999 = Min value of f = 0.19999999999999998 at x = [0.12 0.64]\n"
     ]
    }
   ],
   "source": [
    "answer = gD(x)"
   ]
  },
  {
   "cell_type": "code",
   "execution_count": 8,
   "id": "1729b9f3",
   "metadata": {},
   "outputs": [
    {
     "data": {
      "text/plain": [
       "0.19999999999999998"
      ]
     },
     "execution_count": 8,
     "metadata": {},
     "output_type": "execute_result"
    }
   ],
   "source": [
    "np.linalg.norm(np.dot(A,answer)-B)**2"
   ]
  },
  {
   "cell_type": "code",
   "execution_count": 9,
   "id": "48912ac7",
   "metadata": {},
   "outputs": [
    {
     "data": {
      "text/plain": [
       "array([[28, 26],\n",
       "       [26, 42]])"
      ]
     },
     "execution_count": 9,
     "metadata": {},
     "output_type": "execute_result"
    }
   ],
   "source": [
    "2*np.dot(A.T,A)"
   ]
  },
  {
   "cell_type": "code",
   "execution_count": 10,
   "id": "3eeb35ea",
   "metadata": {},
   "outputs": [
    {
     "data": {
      "text/plain": [
       "array([10, 15])"
      ]
     },
     "execution_count": 10,
     "metadata": {},
     "output_type": "execute_result"
    }
   ],
   "source": [
    "np.dot(A.T,B)"
   ]
  },
  {
   "cell_type": "code",
   "execution_count": 11,
   "id": "2bbb386f",
   "metadata": {},
   "outputs": [
    {
     "data": {
      "text/plain": [
       "array([[14, 13],\n",
       "       [13, 21]])"
      ]
     },
     "execution_count": 11,
     "metadata": {},
     "output_type": "execute_result"
    }
   ],
   "source": [
    "np.dot(A.T,A)"
   ]
  },
  {
   "cell_type": "code",
   "execution_count": 12,
   "id": "ad671fc0",
   "metadata": {},
   "outputs": [
    {
     "data": {
      "text/plain": [
       "0.19999999999999998"
      ]
     },
     "execution_count": 12,
     "metadata": {},
     "output_type": "execute_result"
    }
   ],
   "source": [
    "np.linalg.norm(np.dot(A,answer)-B)**2"
   ]
  },
  {
   "cell_type": "code",
   "execution_count": null,
   "id": "1b2502a1",
   "metadata": {},
   "outputs": [],
   "source": []
  }
 ],
 "metadata": {
  "kernelspec": {
   "display_name": "Python 3 (ipykernel)",
   "language": "python",
   "name": "python3"
  },
  "language_info": {
   "codemirror_mode": {
    "name": "ipython",
    "version": 3
   },
   "file_extension": ".py",
   "mimetype": "text/x-python",
   "name": "python",
   "nbconvert_exporter": "python",
   "pygments_lexer": "ipython3",
   "version": "3.10.9"
  }
 },
 "nbformat": 4,
 "nbformat_minor": 5
}
