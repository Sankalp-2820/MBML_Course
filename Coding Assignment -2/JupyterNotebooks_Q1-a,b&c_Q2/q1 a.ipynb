{
 "cells": [
  {
   "cell_type": "markdown",
   "id": "f9a805e6",
   "metadata": {},
   "source": [
    "### Numerical Solution using NumPy"
   ]
  },
  {
   "cell_type": "code",
   "execution_count": 1,
   "id": "5e95b27e",
   "metadata": {},
   "outputs": [],
   "source": [
    "import numpy as np\n",
    "A = np.array([[2,-1,-1],[-1,2,0],[-1,0,1]])\n",
    "b = 1\n",
    "x = np.random.rand(3)"
   ]
  },
  {
   "cell_type": "code",
   "execution_count": 2,
   "id": "27b5bd4e",
   "metadata": {},
   "outputs": [],
   "source": [
    "def f(x):\n",
    "    return np.dot(x.T,np.dot(A,x)) + b"
   ]
  },
  {
   "cell_type": "code",
   "execution_count": 3,
   "id": "5095a852",
   "metadata": {},
   "outputs": [],
   "source": [
    "def grad(x):\n",
    "    return np.dot(A+A.T,x)"
   ]
  },
  {
   "cell_type": "code",
   "execution_count": 4,
   "id": "4e09a558",
   "metadata": {},
   "outputs": [
    {
     "data": {
      "text/plain": [
       "array([ 3.00693393, -0.18064992, -1.93905856])"
      ]
     },
     "execution_count": 4,
     "metadata": {},
     "output_type": "execute_result"
    }
   ],
   "source": [
    "grad(x)"
   ]
  },
  {
   "cell_type": "code",
   "execution_count": 5,
   "id": "51522563",
   "metadata": {},
   "outputs": [],
   "source": [
    "lr = 0.02\n",
    "num_iter = 10000"
   ]
  },
  {
   "cell_type": "code",
   "execution_count": 6,
   "id": "48da947a",
   "metadata": {},
   "outputs": [],
   "source": [
    "def gD(x):\n",
    "    for i in range(num_iter):\n",
    "        x = x - lr*(grad(x))\n",
    "        if i%1000 == 0:\n",
    "            print(f\"Iteration : {i} Value of f(x) = {f(x)}\")\n",
    "    print(f\"Iteration : {i} = Min value of f = {f(x)} at x = {x}\")"
   ]
  },
  {
   "cell_type": "code",
   "execution_count": 7,
   "id": "6b5df27c",
   "metadata": {},
   "outputs": [
    {
     "name": "stdout",
     "output_type": "stream",
     "text": [
      "Iteration : 0 Value of f(x) = 2.1790465148143676\n",
      "Iteration : 1000 Value of f(x) = 1.000000012786047\n",
      "Iteration : 2000 Value of f(x) = 1.0000000000000016\n",
      "Iteration : 3000 Value of f(x) = 1.0\n",
      "Iteration : 4000 Value of f(x) = 1.0\n",
      "Iteration : 5000 Value of f(x) = 1.0\n",
      "Iteration : 6000 Value of f(x) = 1.0\n",
      "Iteration : 7000 Value of f(x) = 1.0\n",
      "Iteration : 8000 Value of f(x) = 1.0\n",
      "Iteration : 9000 Value of f(x) = 1.0\n",
      "Iteration : 9999 = Min value of f = 1.0 at x = [1.23155478e-35 6.83461341e-36 1.53572369e-35]\n"
     ]
    }
   ],
   "source": [
    "gD(x)"
   ]
  }
 ],
 "metadata": {
  "kernelspec": {
   "display_name": "Python 3 (ipykernel)",
   "language": "python",
   "name": "python3"
  },
  "language_info": {
   "codemirror_mode": {
    "name": "ipython",
    "version": 3
   },
   "file_extension": ".py",
   "mimetype": "text/x-python",
   "name": "python",
   "nbconvert_exporter": "python",
   "pygments_lexer": "ipython3",
   "version": "3.10.9"
  }
 },
 "nbformat": 4,
 "nbformat_minor": 5
}
