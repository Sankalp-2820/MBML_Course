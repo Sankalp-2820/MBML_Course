{
 "cells": [
  {
   "cell_type": "markdown",
   "id": "f4d51ac1",
   "metadata": {},
   "source": [
    "# Numerical Solution using NumPy"
   ]
  },
  {
   "cell_type": "code",
   "execution_count": 1,
   "id": "c4ee4d01",
   "metadata": {},
   "outputs": [],
   "source": [
    "import numpy as np\n",
    "from numpy import random\n",
    "import matplotlib.pyplot as plt\n",
    "from sklearn.datasets import make_spd_matrix\n",
    "A = make_spd_matrix(n_dim = 10)\n",
    "B = np.random.randint(5,size=10)\n",
    "C = np.random.randint(5)\n",
    "x = np.array([0.1,0.1,0.1,0.1,0.1,0.1,0.1,0.1,0.1,0.1,])"
   ]
  },
  {
   "cell_type": "code",
   "execution_count": 2,
   "id": "0dbbec2f",
   "metadata": {},
   "outputs": [],
   "source": [
    "def f(x):\n",
    "    return np.dot(x.T,np.dot(A,x))-2*np.dot(B,x)+C"
   ]
  },
  {
   "cell_type": "code",
   "execution_count": 3,
   "id": "53eb8428",
   "metadata": {},
   "outputs": [
    {
     "data": {
      "text/plain": [
       "-3.4929680717776526"
      ]
     },
     "execution_count": 3,
     "metadata": {},
     "output_type": "execute_result"
    }
   ],
   "source": [
    "f(x)"
   ]
  },
  {
   "cell_type": "code",
   "execution_count": 4,
   "id": "8ba2a51b",
   "metadata": {},
   "outputs": [],
   "source": [
    "def grad(x):\n",
    "    return np.dot(A+A.T,x)-2*B"
   ]
  },
  {
   "cell_type": "code",
   "execution_count": 5,
   "id": "18f2bac7",
   "metadata": {},
   "outputs": [
    {
     "data": {
      "text/plain": [
       "array([-0.23278024, -6.02731888, -0.46869131, -7.79521083, -0.60876869,\n",
       "       -6.35626056, -7.33338901,  0.32793631, -8.3356114 , -7.02926682])"
      ]
     },
     "execution_count": 5,
     "metadata": {},
     "output_type": "execute_result"
    }
   ],
   "source": [
    "grad(x)"
   ]
  },
  {
   "cell_type": "code",
   "execution_count": 6,
   "id": "4cfd6cf8",
   "metadata": {},
   "outputs": [],
   "source": [
    "A_norm = np.linalg.norm(A,ord = 2)\n",
    "B_norm = np.linalg.norm(B)\n",
    "lr = 1/(2*A_norm+B_norm)\n",
    "num_iter = 1000"
   ]
  },
  {
   "cell_type": "code",
   "execution_count": 7,
   "id": "8c01f57b",
   "metadata": {},
   "outputs": [],
   "source": [
    "def gD(x):\n",
    "    f_at_iter = []\n",
    "    for i in range(num_iter):\n",
    "        x = x - lr*grad(x)\n",
    "        if i%100 == 0:\n",
    "            print(f\"Iteration : {i} Value of f(x) = {f(x)}\")\n",
    "        f_at_iter.append(f(x))\n",
    "    print(f\"Iteration : {i} = Min value of f = {f(x)} at x = {x}\")\n",
    "    plt.plot(range(num_iter),f_at_iter)\n",
    "    plt.xlabel('No. of Iterations')\n",
    "    plt.ylabel('Value of f(x)')\n",
    "    plt.show()\n",
    "    return f_at_iter,x\n"
   ]
  },
  {
   "cell_type": "code",
   "execution_count": 8,
   "id": "d4d9a4a9",
   "metadata": {},
   "outputs": [
    {
     "name": "stdout",
     "output_type": "stream",
     "text": [
      "Iteration : 0 Value of f(x) = -13.558324989243207\n",
      "Iteration : 100 Value of f(x) = -374.50568377082095\n",
      "Iteration : 200 Value of f(x) = -451.6061320333153\n",
      "Iteration : 300 Value of f(x) = -470.8280579405074\n",
      "Iteration : 400 Value of f(x) = -475.8124666815057\n",
      "Iteration : 500 Value of f(x) = -477.1332185854354\n",
      "Iteration : 600 Value of f(x) = -477.4874616749418\n",
      "Iteration : 700 Value of f(x) = -477.5831272851205\n",
      "Iteration : 800 Value of f(x) = -477.6090623163374\n",
      "Iteration : 900 Value of f(x) = -477.6161086090666\n",
      "Iteration : 999 = Min value of f = -477.61801596414233 at x = [17.32202146 22.23501235 20.37741312 20.55673353 10.55547073 34.40353759\n",
      " 11.86475049  8.71466088 30.14702833 11.84483818]\n"
     ]
    },
    {
     "data": {
      "image/png": "[encoded data removed]",
      "text/plain": [
       "<Figure size 640x480 with 1 Axes>"
      ]
     },
     "metadata": {},
     "output_type": "display_data"
    }
   ],
   "source": [
    "f_at_iter,minimiser_numerical = gD(x)"
   ]
  },
  {
   "cell_type": "markdown",
   "id": "f867890d",
   "metadata": {},
   "source": [
    "# Analytical Solution using SymPy"
   ]
  },
  {
   "cell_type": "code",
   "execution_count": 9,
   "id": "ed28248c",
   "metadata": {},
   "outputs": [],
   "source": [
    "from sympy import symbols, Eq, solve"
   ]
  },
  {
   "cell_type": "code",
   "execution_count": 10,
   "id": "eb356be8",
   "metadata": {},
   "outputs": [
    {
     "data": {
      "text/plain": [
       "(x1, x2, x3, x4, x5, x6, x7, x8, x9, x10)"
      ]
     },
     "execution_count": 10,
     "metadata": {},
     "output_type": "execute_result"
    }
   ],
   "source": [
    "X_analytical = symbols('x1 x2 x3 x4 x5 x6 x7 x8 x9 x10')\n",
    "X_analytical"
   ]
  },
  {
   "cell_type": "code",
   "execution_count": 11,
   "id": "845cbe08",
   "metadata": {},
   "outputs": [],
   "source": [
    "Gradient_eqns = {}\n",
    "for i in range(10):\n",
    "    Gradient_eqns[i] = Eq((np.dot((A[i]),X_analytical) + np.dot((A.T[i]),X_analytical)),2*B[i])"
   ]
  },
  {
   "cell_type": "code",
   "execution_count": 12,
   "id": "057b6316",
   "metadata": {},
   "outputs": [],
   "source": [
    "solution = solve((Gradient_eqns[0],Gradient_eqns[1],Gradient_eqns[2],Gradient_eqns[3],Gradient_eqns[4],Gradient_eqns[5],Gradient_eqns[6],Gradient_eqns[7],Gradient_eqns[8],Gradient_eqns[9]),X_analytical)"
   ]
  },
  {
   "cell_type": "code",
   "execution_count": 13,
   "id": "55c315f5",
   "metadata": {},
   "outputs": [
    {
     "data": {
      "text/latex": [
       "$\\displaystyle -477.618742370452$"
      ],
      "text/plain": [
       "-477.618742370452"
      ]
     },
     "execution_count": 13,
     "metadata": {},
     "output_type": "execute_result"
    }
   ],
   "source": [
    "temp = list(solution.values())\n",
    "minimiser_analytical = np.array(temp)\n",
    "f(minimiser_analytical)"
   ]
  },
  {
   "cell_type": "code",
   "execution_count": 14,
   "id": "ee7dba05",
   "metadata": {},
   "outputs": [
    {
     "data": {
      "text/plain": [
       "array([17.3535114209853, 22.2355840993776, 20.4126068476874,\n",
       "       20.5915534923148, 10.5735361285824, 34.4416133230065,\n",
       "       11.8640823330376, 8.73543610964089, 30.1859968969729,\n",
       "       11.8617707713536], dtype=object)"
      ]
     },
     "execution_count": 14,
     "metadata": {},
     "output_type": "execute_result"
    }
   ],
   "source": [
    "minimiser_analytical"
   ]
  },
  {
   "cell_type": "markdown",
   "id": "0707a95b",
   "metadata": {},
   "source": [
    "# Final Answers \n",
    "### The results from numerical method using gradient descent and analytical method by setting the gradient equal to 0 match exactly"
   ]
  },
  {
   "cell_type": "code",
   "execution_count": 15,
   "id": "c0c71e6d",
   "metadata": {},
   "outputs": [
    {
     "data": {
      "text/plain": [
       "array([17.32202146, 22.23501235, 20.37741312, 20.55673353, 10.55547073,\n",
       "       34.40353759, 11.86475049,  8.71466088, 30.14702833, 11.84483818])"
      ]
     },
     "execution_count": 15,
     "metadata": {},
     "output_type": "execute_result"
    }
   ],
   "source": [
    "minimiser_numerical"
   ]
  },
  {
   "cell_type": "code",
   "execution_count": 16,
   "id": "a2ecbbd8",
   "metadata": {},
   "outputs": [
    {
     "data": {
      "text/plain": [
       "array([17.3535114209853, 22.2355840993776, 20.4126068476874,\n",
       "       20.5915534923148, 10.5735361285824, 34.4416133230065,\n",
       "       11.8640823330376, 8.73543610964089, 30.1859968969729,\n",
       "       11.8617707713536], dtype=object)"
      ]
     },
     "execution_count": 16,
     "metadata": {},
     "output_type": "execute_result"
    }
   ],
   "source": [
    "minimiser_analytical"
   ]
  },
  {
   "cell_type": "code",
   "execution_count": 17,
   "id": "183f6cd7",
   "metadata": {},
   "outputs": [
    {
     "name": "stdout",
     "output_type": "stream",
     "text": [
      "Minimum value at minimiser_numerical is -477.61801596414233\n",
      "Minimum value at minimiser_analytical is -477.618742370452\n"
     ]
    }
   ],
   "source": [
    "print(f\"Minimum value at minimiser_numerical is {f(minimiser_numerical)}\")\n",
    "print(f\"Minimum value at minimiser_analytical is {f(minimiser_analytical)}\")"
   ]
  },
  {
   "cell_type": "code",
   "execution_count": 19,
   "id": "97a40863",
   "metadata": {},
   "outputs": [
    {
     "data": {
      "image/png": "[encoded data removed]",
      "text/plain": [
       "<Figure size 640x480 with 1 Axes>"
      ]
     },
     "metadata": {},
     "output_type": "display_data"
    }
   ],
   "source": [
    "plt.plot(range(num_iter),f_at_iter)\n",
    "plt.axhline(y=f(minimiser_analytical), color='red', linestyle='--', label=f'Analytical Minima {f(minimiser_analytical)}')\n",
    "plt.xlabel('No. of Iterations')\n",
    "plt.ylabel('Value of f(x)')\n",
    "# ymin = -9  # Replace with your desired minimum y-value\n",
    "# ymax = -10  # Replace with your desired maximum y-value\n",
    "# plt.ylim(ymin, ymax)\n",
    "plt.show()"
   ]
  },
  {
   "cell_type": "code",
   "execution_count": null,
   "id": "1c71af18",
   "metadata": {},
   "outputs": [],
   "source": []
  }
 ],
 "metadata": {
  "kernelspec": {
   "display_name": "Python 3 (ipykernel)",
   "language": "python",
   "name": "python3"
  },
  "language_info": {
   "codemirror_mode": {
    "name": "ipython",
    "version": 3
   },
   "file_extension": ".py",
   "mimetype": "text/x-python",
   "name": "python",
   "nbconvert_exporter": "python",
   "pygments_lexer": "ipython3",
   "version": "3.10.9"
  }
 },
 "nbformat": 4,
 "nbformat_minor": 5
}
