{
 "cells": [
  {
   "cell_type": "markdown",
   "id": "f14f3dc8",
   "metadata": {},
   "source": [
    "### Numerical Solution using NumPy"
   ]
  },
  {
   "cell_type": "code",
   "execution_count": 1,
   "id": "f30de449",
   "metadata": {},
   "outputs": [],
   "source": [
    "import numpy as np\n",
    "A = np.array([[1,2,1],[2,4,2],[3,1,9],[4,1,0],[2,1,4]])\n",
    "B = np.array([1,3,1,0,9])\n",
    "x = np.random.rand(3)"
   ]
  },
  {
   "cell_type": "code",
   "execution_count": 2,
   "id": "52245674",
   "metadata": {},
   "outputs": [],
   "source": [
    "def f(x):\n",
    "    return (np.linalg.norm(np.dot(A,x)-B))**2"
   ]
  },
  {
   "cell_type": "code",
   "execution_count": 3,
   "id": "694bd48e",
   "metadata": {},
   "outputs": [],
   "source": [
    "def grad(x):\n",
    "    return 2*np.dot(A.T,(np.dot(A,x)-B))"
   ]
  },
  {
   "cell_type": "markdown",
   "id": "96362f68",
   "metadata": {},
   "source": [
    "## Given learning rate is very high"
   ]
  },
  {
   "cell_type": "code",
   "execution_count": 4,
   "id": "647f48aa",
   "metadata": {},
   "outputs": [],
   "source": [
    "lr = 0.002 \n",
    "num_iter = 10000"
   ]
  },
  {
   "cell_type": "code",
   "execution_count": 5,
   "id": "19e1b6da",
   "metadata": {},
   "outputs": [],
   "source": [
    "def gD(x):\n",
    "    for i in range(num_iter):\n",
    "        x = x - lr*(grad(x))\n",
    "        if i%1000 == 0:\n",
    "            print(f\"Iteration : {i} Value of f(x) = {f(x)}\")\n",
    "    answer = x\n",
    "    print(f\"Iteration : {i} = Min value of f = {f(x)} at x = {x}\")\n",
    "    return answer"
   ]
  },
  {
   "cell_type": "code",
   "execution_count": 6,
   "id": "9d228ba2",
   "metadata": {},
   "outputs": [
    {
     "name": "stdout",
     "output_type": "stream",
     "text": [
      "Iteration : 0 Value of f(x) = 76.87868204873901\n",
      "Iteration : 1000 Value of f(x) = 56.990482782488314\n",
      "Iteration : 2000 Value of f(x) = 56.99048278248833\n",
      "Iteration : 3000 Value of f(x) = 56.99048278248833\n",
      "Iteration : 4000 Value of f(x) = 56.99048278248833\n",
      "Iteration : 5000 Value of f(x) = 56.99048278248833\n",
      "Iteration : 6000 Value of f(x) = 56.99048278248833\n",
      "Iteration : 7000 Value of f(x) = 56.99048278248833\n",
      "Iteration : 8000 Value of f(x) = 56.99048278248833\n",
      "Iteration : 9000 Value of f(x) = 56.99048278248833\n",
      "Iteration : 9999 = Min value of f = 56.99048278248833 at x = [0.05744939 0.65686105 0.33915902]\n"
     ]
    },
    {
     "data": {
      "text/plain": [
       "array([0.05744939, 0.65686105, 0.33915902])"
      ]
     },
     "execution_count": 6,
     "metadata": {},
     "output_type": "execute_result"
    }
   ],
   "source": [
    "answer = gD(x)\n",
    "answer"
   ]
  },
  {
   "cell_type": "code",
   "execution_count": 7,
   "id": "b1c23f91",
   "metadata": {},
   "outputs": [
    {
     "data": {
      "text/plain": [
       "array([[ 34,  19,  40],\n",
       "       [ 19,  23,  23],\n",
       "       [ 40,  23, 102]])"
      ]
     },
     "execution_count": 7,
     "metadata": {},
     "output_type": "execute_result"
    }
   ],
   "source": [
    "np.dot(A.T,A)"
   ]
  },
  {
   "cell_type": "code",
   "execution_count": 8,
   "id": "39f43376",
   "metadata": {},
   "outputs": [
    {
     "data": {
      "text/plain": [
       "array([28, 24, 52])"
      ]
     },
     "execution_count": 8,
     "metadata": {},
     "output_type": "execute_result"
    }
   ],
   "source": [
    "np.dot(A.T,B)"
   ]
  },
  {
   "cell_type": "code",
   "execution_count": 9,
   "id": "c63fb2fc",
   "metadata": {},
   "outputs": [
    {
     "data": {
      "text/plain": [
       "56.99048278248833"
      ]
     },
     "execution_count": 9,
     "metadata": {},
     "output_type": "execute_result"
    }
   ],
   "source": [
    "np.linalg.norm(np.dot(A,answer)-B)**2"
   ]
  },
  {
   "cell_type": "code",
   "execution_count": null,
   "id": "52e88652",
   "metadata": {},
   "outputs": [],
   "source": []
  }
 ],
 "metadata": {
  "kernelspec": {
   "display_name": "Python 3 (ipykernel)",
   "language": "python",
   "name": "python3"
  },
  "language_info": {
   "codemirror_mode": {
    "name": "ipython",
    "version": 3
   },
   "file_extension": ".py",
   "mimetype": "text/x-python",
   "name": "python",
   "nbconvert_exporter": "python",
   "pygments_lexer": "ipython3",
   "version": "3.10.9"
  }
 },
 "nbformat": 4,
 "nbformat_minor": 5
}
